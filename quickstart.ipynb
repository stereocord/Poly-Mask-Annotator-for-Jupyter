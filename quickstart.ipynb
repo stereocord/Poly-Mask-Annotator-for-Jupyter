{
  "nbformat": 4,
  "nbformat_minor": 5,
  "metadata": {
    "kernelspec": {
      "name": "python3",
      "language": "python",
      "display_name": "Python 3"
    },
    "language_info": {
      "name": "python",
      "pygments_lexer": "ipython3"
    }
  },
  "cells": [
    {
      "cell_type": "markdown",
      "metadata": {},
      "source": [
        "# Poly Mask Annotator — Quickstart\n",
        "\n",
        "Minimal notebook to try the widget locally. Make sure the required packages are installed.\n"
      ]
    },
    {
      "cell_type": "code",
      "metadata": {},
      "source": [
        "from IPython.display import HTML\n",
        "HTML(\"\"\"\n",
        "<style>\n",
        ".pm-wheel-passive { touch-action: auto; overscroll-behavior: auto; }\n",
        ".pm-drag-scroll.pm-drag-scroll-active { cursor: grab; }\n",
        ".pm-drag-scroll.pm-drag-scroll-active:active { cursor: grabbing; }\n",
        "</style>\n",
        "<script>\n",
        "(function(){\n",
        "  function enableDragScroll(root){\n",
        "    if (!root || root.__pmDragScrollInstalled) return;\n",
        "    root.__pmDragScrollInstalled = true;\n",
        "    root.addEventListener('pointerdown', function(e){\n",
        "      if (!root.classList.contains('pm-drag-scroll-active')) return;\n",
        "      if (e.button !== 0) return;\n",
        "      const startX = e.clientX + root.scrollLeft;\n",
        "      const startY = e.clientY + root.scrollTop;\n",
        "      root.setPointerCapture && root.setPointerCapture(e.pointerId);\n",
        "      const move = ev => { root.scrollLeft = startX - ev.clientX; root.scrollTop = startY - ev.clientY; };\n",
        "      const up   = ev => { root.removeEventListener('pointermove', move); root.removeEventListener('pointerup', up); };\n",
        "      root.addEventListener('pointermove', move); root.addEventListener('pointerup', up);\n",
        "      e.preventDefault();\n",
        "    }, true);\n",
        "  }\n",
        "  const applyAll = () => document.querySelectorAll('.pm-drag-scroll').forEach(el => enableDragScroll(el));\n",
        "  const obs = new MutationObserver(applyAll); obs.observe(document.body, {subtree: true, childList: true}); applyAll();\n",
        "})();\n",
        "</script>\n",
        "\"\"\")"
      ],
      "execution_count": 0,
      "outputs": []
    },
    {
      "cell_type": "code",
      "metadata": {},
      "source": [
        "from poly_mask_annotator import MaskAnnotator\n",
        "\n",
        "# TODO: Change this path to your local image folder\n",
        "img_folder = \"/path/to/images\"\n",
        "\n",
        "ui = MaskAnnotator(\n",
        "    folder=img_folder,\n",
        "    enable_wheel_zoom=True,\n",
        "    viewport_height=\"70vh\",\n",
        "    min_zoom_pct=10, max_zoom_pct=400,\n",
        "    pan_via_scroll=True,\n",
        ")\n",
        "ui"
      ],
      "execution_count": 0,
      "outputs": []
    }
  ]
}